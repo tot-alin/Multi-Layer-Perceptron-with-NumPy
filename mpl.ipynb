{
 "cells": [
  {
   "cell_type": "code",
   "execution_count": 1,
   "id": "3c4bd6f7-c17d-4327-bf2b-6f1a7899e00b",
   "metadata": {},
   "outputs": [
    {
     "name": "stderr",
     "output_type": "stream",
     "text": [
      "2025-07-03 12:28:53.435066: I tensorflow/core/util/port.cc:113] oneDNN custom operations are on. You may see slightly different numerical results due to floating-point round-off errors from different computation orders. To turn them off, set the environment variable `TF_ENABLE_ONEDNN_OPTS=0`.\n",
      "2025-07-03 12:28:53.464952: I tensorflow/core/platform/cpu_feature_guard.cc:210] This TensorFlow binary is optimized to use available CPU instructions in performance-critical operations.\n",
      "To enable the following instructions: AVX2 AVX512F AVX512_VNNI AVX512_BF16 FMA, in other operations, rebuild TensorFlow with the appropriate compiler flags.\n",
      "2025-07-03 12:28:53.886395: W tensorflow/compiler/tf2tensorrt/utils/py_utils.cc:38] TF-TRT Warning: Could not find TensorRT\n"
     ]
    }
   ],
   "source": [
    "import tensorflow as tf\n",
    "\n",
    "import numpy as np\n",
    "import warnings\n",
    "# suppress warnings\n",
    "warnings.filterwarnings('ignore')\n",
    "\n",
    "import matplotlib.pyplot as plt"
   ]
  },
  {
   "cell_type": "code",
   "execution_count": 2,
   "id": "c1c9290e-b216-44bd-bf26-cd4e565d61e2",
   "metadata": {},
   "outputs": [],
   "source": [
    "\"\"\" creaza reteaua ANN pe 4 layer-ruri \"\"\"\n",
    "class NeuralNetwork:\n",
    "\n",
    "    def __init__(self, nr_input, nr_L1, nr_L2, nr_L3, nr_L4):\n",
    "        \n",
    "        self.nr_input = nr_input\n",
    "        self.nr_L1 = nr_L1\n",
    "        self.nr_L2 = nr_L2\n",
    "        self.nr_L3 = nr_L3\n",
    "        self.nr_L4 = nr_L4\n",
    "\n",
    "\t\t# Initialize the weights\n",
    "        self.w_L1 = np.random.randn(self.nr_input, self.nr_L1)\n",
    "        self.w_L2 = np.random.randn(self.nr_L1, self.nr_L2)\n",
    "        self.w_L3 = np.random.randn(self.nr_L2, self.nr_L3)\n",
    "        self.w_L4 = np.random.randn(self.nr_L3, self.nr_L4)\n",
    "\n",
    "\t\t# Initialize the biases\n",
    "        self.bias_L1 = np.zeros((1, self.nr_L1), dtype=np.float32)\n",
    "        self.bias_L2 = np.zeros((1, self.nr_L2), dtype=np.float32)\n",
    "        self.bias_L3 = np.zeros((1, self.nr_L3), dtype=np.float32)\n",
    "        self.bias_L4 = np.zeros((1, self.nr_L4), dtype=np.float32)\n",
    "\n",
    "        self.n = 1\n",
    "\n",
    "\t\t# Mean Squared Error\n",
    "        self.loss_train = list()\n",
    "        self.loss_val = list()\n",
    "        self.acc = list()\n",
    "\n",
    "\n",
    "    # Sigmoid Function\n",
    "    def sigmoid(self, x):\n",
    "        x = 1/(1 + np.exp(-x))\n",
    "        return x\n",
    "\n",
    "    # Derivative of Sigmoid Function\n",
    "    def derivative_sigmoid(self, x):\n",
    "        dx = self.sigmoid(x)*(1-self.sigmoid(x))\n",
    "        return dx\n",
    "\n",
    "\n",
    "    def feedforward(self, X):\n",
    "        \n",
    "        self.SL1 = np.dot(X, self.w_L1) + self.bias_L1\n",
    "        self.AL1 = self.sigmoid(self.SL1)\n",
    "        self.SL2 = np.dot(self.AL1, self.w_L2) + self.bias_L2\n",
    "        self.AL2 = self.sigmoid(self.SL2)\n",
    "        self.SL3 = np.dot(self.AL2, self.w_L3) + self.bias_L3\n",
    "        self.AL3 = self.sigmoid(self.SL3)\n",
    "        self.SL4 = np.dot(self.AL3, self.w_L4) + self.bias_L4\n",
    "        self.AL4 = self.sigmoid(self.SL4)\n",
    "        return self.AL4\n",
    "\n",
    "\n",
    "    def backward(self, X, Y, learning_rate):\n",
    "        \n",
    "        # define loss\n",
    "        err_out = -(Y - self.AL4)\n",
    "\n",
    "        # define\n",
    "        d_L4 = err_out * self.derivative_sigmoid(self.SL4)\n",
    "        d_L3 = (np.dot(d_L4, self.w_L4.T)) * self.derivative_sigmoid(self.SL3)\n",
    "        d_L2 = (np.dot(d_L3, self.w_L3.T)) * self.derivative_sigmoid(self.SL2)\n",
    "        d_L1 = (np.dot(d_L2, self.w_L2.T)) * self.derivative_sigmoid(self.SL1)\n",
    "\n",
    "        # define gradients \n",
    "        grad_L4 = np.dot(self.AL3.T, d_L4)\n",
    "        grad_L3 = np.dot(self.AL2.T, d_L3)\n",
    "        grad_L2 = np.dot(self.AL1.T, d_L2)\n",
    "        grad_L1 = np.dot(X.T, d_L1)\n",
    "\n",
    "\t\t# Update weights\n",
    "        self.w_L4 -= grad_L4 * learning_rate\n",
    "        self.w_L3 -= grad_L3 * learning_rate\n",
    "        self.w_L2 -= grad_L2 * learning_rate\n",
    "        self.w_L1 -= grad_L1 * learning_rate\n",
    "\n",
    "        m = Y.shape[0]# identifica numarul de pachete\n",
    "        # Update biases\n",
    "        self.bias_L4 -= np.sum(d_L4, axis=0, keepdims=True) * learning_rate \n",
    "        self.bias_L3 -= np.sum(d_L3, axis=0, keepdims=True) * learning_rate \n",
    "        self.bias_L2 -= np.sum(d_L2, axis=0, keepdims=True) * learning_rate\n",
    "        self.bias_L1 -= np.sum(d_L1, axis=0, keepdims=True) * learning_rate\n",
    "            # axis=0 -insumeaza pe verticala\n",
    "            # keepdims=True -pastrand matricea originala\n",
    "        \n",
    "        \n",
    "        if self.n < 2:\n",
    "\n",
    "            print('---initialize w end bias---')\n",
    "            print('w - matrix dimension')\n",
    "            print('self.w_L4',self.w_L4.shape)\n",
    "            print('self.w_L3',self.w_L3.shape)\n",
    "            print('self.w_L2',self.w_L2.shape)\n",
    "            print('self.w_L1',self.w_L1.shape)\n",
    "            print()\n",
    "            print('bias - matrix dimension')\n",
    "            print('self.bias_L4',self.bias_L4.shape)\n",
    "            print('self.bias_L3',self.bias_L3.shape)\n",
    "            print('self.bias_L2',self.bias_L2.shape)\n",
    "            print('self.bias_L1',self.bias_L1.shape)\n",
    "            print('---')\n",
    "            print()\n",
    "\n",
    "            print('---feedforward---')\n",
    "            print('matrix dimension')\n",
    "            print('self.SL1',self.SL1.shape)\n",
    "            print('self.AL1',self.AL1.shape)\n",
    "            print('self.SL2',self.SL2.shape)\n",
    "            print('self.AL2',self.AL2.shape)\n",
    "            print('self.SL3',self.SL3.shape)\n",
    "            print('self.AL3',self.AL3.shape)\n",
    "            print('self.SL4',self.SL4.shape)\n",
    "            print('self.AL4',self.AL4.shape)\n",
    "            print()\n",
    "            print('self.SL4 = np.dot(self.AL3, self.w_L4) + self.bias_L4')\n",
    "            print(self.SL4.shape, '=', self.AL3.shape, 'X', self.w_L4.shape, '+', self.bias_L4.shape)\n",
    "            print('---')\n",
    "            print()\n",
    "\n",
    "            print('---backward---')\n",
    "            print('matrix dimension delta')\n",
    "            print('err_out',err_out.shape)\n",
    "            print('d_L4',d_L4.shape)\n",
    "            print('d_L3',d_L3.shape)\n",
    "            print('d_L2',d_L2.shape)\n",
    "            print('d_L1',d_L1.shape)\n",
    "            print()\n",
    "            print('exemple ','d_L3 = (np.dot(d_L4, self.w_L4.T)) * self.derivative_sigmoid(self.SL3)')\n",
    "            print('exemple ', d_L3.shape, '=',d_L4.shape,' X ', self.w_L4.T.shape, ' X ', self.derivative_sigmoid(self.SL3).shape)\n",
    "            print()\n",
    "            print('size of gradient matrices')\n",
    "            print('grad_L4',grad_L4.shape)\n",
    "            print('grad_L3',grad_L3.shape)\n",
    "            print('grad_L2',grad_L2.shape)\n",
    "            print('grad_L1',grad_L1.shape)\n",
    "            print()\n",
    "            print('exemple ','self.AL3.T X d_L4 = grad_L4')\n",
    "            print('exemple ', grad_L4.shape, '=',self.AL3.T.shape,' X ', d_L4.shape)\n",
    "            print('---')\n",
    "            print()\n",
    "            self.n += 1\n",
    "\n",
    "    def train(self, X, Y, X_val, Y_val, epochs, learning_rate):\n",
    "        for epoch in range(1,epochs+1):\n",
    "\n",
    "            loss_train = []\n",
    "            loss_batch = []\n",
    "            for X_batch, Y_batch in zip(X,Y):\n",
    "            \n",
    "                output = self.feedforward(X_batch)\n",
    "                self.backward(X_batch, Y_batch, learning_rate)\n",
    "\n",
    "                # Mean Squared Error for loss_batch\n",
    "                loss = np.mean(np.square(Y_batch - output))\n",
    "                loss_batch.append(loss)\n",
    "\n",
    "            # Mean Squared Error for loss_train\n",
    "            loss_train.append(np.mean(loss_batch))\n",
    "            self.loss_train.append(loss_train)\n",
    "\n",
    "            # Mean Squared Error for loss_val\n",
    "            loss_val = np.mean(np.square(Y_val - self.feedforward(X_val)))\n",
    "            self.loss_val.append(loss_val)\n",
    "\n",
    "            # accuracy metric validation data\n",
    "            acc = np.sum(np.equal(np.argmax(Y_val, axis=1), np.argmax(self.feedforward(X_val), axis=1)))/X_val.shape[0]\n",
    "            self.acc.append(acc)\n",
    "            \n",
    "            print(f\"Epoch {epoch}, Loss_train:{loss_train}, Loss_val:{loss_val}, accuracy_val:{acc}\")\n",
    "\n",
    "    def error(self):\n",
    "        return self.loss_train, self.loss_val, self.acc\n",
    "\n",
    "#\n"
   ]
  },
  {
   "cell_type": "code",
   "execution_count": 3,
   "id": "eaed1930-518d-44a5-8d2b-3be185ceebbf",
   "metadata": {},
   "outputs": [],
   "source": [
    "# load the database\n",
    "(x_train, y_train), (x_val, y_val) = tf.keras.datasets.mnist.load_data()"
   ]
  },
  {
   "cell_type": "code",
   "execution_count": 4,
   "id": "0acb4fe3-1437-47d6-97e6-99032dfed6a1",
   "metadata": {},
   "outputs": [
    {
     "data": {
      "image/png": "[encoded data removed]",
      "text/plain": [
       "<Figure size 640x480 with 5 Axes>"
      ]
     },
     "metadata": {},
     "output_type": "display_data"
    }
   ],
   "source": [
    "plt.figure(1)\n",
    "plt.gray()\n",
    "n=5\n",
    "for i in range(n):\n",
    "    plt.subplot(1, n, i + 1)\n",
    "    plt.imshow(x_train[i])\n",
    "plt.savefig(\"numere.jpg\")\n",
    "plt.show()"
   ]
  },
  {
   "cell_type": "code",
   "execution_count": 5,
   "id": "28e52c09-0226-4f0d-83e7-864204883080",
   "metadata": {},
   "outputs": [
    {
     "name": "stdout",
     "output_type": "stream",
     "text": [
      "(60000, 28, 28)\n",
      "(10000, 28, 28)\n"
     ]
    }
   ],
   "source": [
    "# normalize database images\n",
    "x_train = x_train / 255\n",
    "x_val = x_val / 255\n",
    "print(x_train.shape)\n",
    "print(x_val.shape)"
   ]
  },
  {
   "cell_type": "code",
   "execution_count": 6,
   "id": "08e1f5ad-2abb-4a00-9e26-f54a6327f828",
   "metadata": {},
   "outputs": [
    {
     "name": "stdout",
     "output_type": "stream",
     "text": [
      "(60000, 10)\n",
      "(10000, 10)\n"
     ]
    }
   ],
   "source": [
    "# convert database labels from decimal to categorical\n",
    "y_train = tf.keras.utils.to_categorical(y_train, num_classes=10)\n",
    "y_val = tf.keras.utils.to_categorical(y_val, num_classes=10)\n",
    "print(y_train.shape)\n",
    "print(y_val.shape)"
   ]
  },
  {
   "cell_type": "code",
   "execution_count": 7,
   "id": "367687cc-c71d-4017-a5e7-60524632d978",
   "metadata": {},
   "outputs": [
    {
     "name": "stdout",
     "output_type": "stream",
     "text": [
      "(60000, 784)\n",
      "(10000, 784)\n"
     ]
    }
   ],
   "source": [
    "# convert images to flat\n",
    "x_train = x_train.reshape(-1,784) # 28 x 28 = 784\n",
    "x_val = x_val.reshape(-1,784)\n",
    "print(x_train.shape)\n",
    "print(x_val.shape)"
   ]
  },
  {
   "cell_type": "code",
   "execution_count": 8,
   "id": "ca6b1e2a-edf7-4c25-8f74-2eacdcb2037e",
   "metadata": {},
   "outputs": [
    {
     "name": "stdout",
     "output_type": "stream",
     "text": [
      "(600, 100, 784)\n",
      "(600, 100, 10)\n"
     ]
    }
   ],
   "source": [
    "# create batches\n",
    "def batch_generator(x, y, batch_size):\n",
    "    xx = []\n",
    "    yy = []\n",
    "    for i in range(0, x.shape[0], batch_size):\n",
    "        xx.append(x[i:i + batch_size,:])\n",
    "        yy.append(y[i:i + batch_size,:])\n",
    "    xx = np.array(xx)\n",
    "    yy = np.array(yy)\n",
    "    return xx,yy\n",
    "\n",
    "batch_size = 100 # in this case the batch size must be divided by 60000 to achieve the 3D array matrix\n",
    "train_x, train_y = batch_generator(x_train,y_train,batch_size) \n",
    "\n",
    "print(train_x.shape)\n",
    "print(train_y.shape)\n",
    "\n"
   ]
  },
  {
   "cell_type": "code",
   "execution_count": 9,
   "id": "76ce05df-00d6-400c-a2a8-f25128c7af5a",
   "metadata": {},
   "outputs": [],
   "source": [
    "#  define the input size (flat)\n",
    "nr_input = train_x.shape[2]\n",
    "\n",
    "# define the number of perceptons per layer\n",
    "nr_L1 = 64\n",
    "nr_L2 = 32\n",
    "nr_L3 = 16\n",
    "nr_L4 = train_y.shape[2]\n",
    "\n",
    "#  create the object, of the NeuralNetwork class\n",
    "mlp = NeuralNetwork(nr_input, nr_L1, nr_L2, nr_L3, nr_L4)"
   ]
  },
  {
   "cell_type": "code",
   "execution_count": 10,
   "id": "8f5ec240-8236-40b5-a5ff-6abbe699f99a",
   "metadata": {},
   "outputs": [
    {
     "name": "stdout",
     "output_type": "stream",
     "text": [
      "---initialize w end bias---\n",
      "w - matrix dimension\n",
      "self.w_L4 (16, 10)\n",
      "self.w_L3 (32, 16)\n",
      "self.w_L2 (64, 32)\n",
      "self.w_L1 (784, 64)\n",
      "\n",
      "bias - matrix dimension\n",
      "self.bias_L4 (1, 10)\n",
      "self.bias_L3 (1, 16)\n",
      "self.bias_L2 (1, 32)\n",
      "self.bias_L1 (1, 64)\n",
      "---\n",
      "\n",
      "---feedforward---\n",
      "matrix dimension\n",
      "self.SL1 (100, 64)\n",
      "self.AL1 (100, 64)\n",
      "self.SL2 (100, 32)\n",
      "self.AL2 (100, 32)\n",
      "self.SL3 (100, 16)\n",
      "self.AL3 (100, 16)\n",
      "self.SL4 (100, 10)\n",
      "self.AL4 (100, 10)\n",
      "\n",
      "self.SL4 = np.dot(self.AL3, self.w_L4) + self.bias_L4\n",
      "(100, 10) = (100, 16) X (16, 10) + (1, 10)\n",
      "---\n",
      "\n",
      "---backward---\n",
      "matrix dimension delta\n",
      "err_out (100, 10)\n",
      "d_L4 (100, 10)\n",
      "d_L3 (100, 16)\n",
      "d_L2 (100, 32)\n",
      "d_L1 (100, 64)\n",
      "\n",
      "exemple  d_L3 = (np.dot(d_L4, self.w_L4.T)) * self.derivative_sigmoid(self.SL3)\n",
      "exemple  (100, 16) = (100, 10)  X  (10, 16)  X  (100, 16)\n",
      "\n",
      "size of gradient matrices\n",
      "grad_L4 (16, 10)\n",
      "grad_L3 (32, 16)\n",
      "grad_L2 (64, 32)\n",
      "grad_L1 (784, 64)\n",
      "\n",
      "exemple  self.AL3.T X d_L4 = grad_L4\n",
      "exemple  (16, 10) = (16, 100)  X  (100, 10)\n",
      "---\n",
      "\n",
      "Epoch 1, Loss_train:[0.07550898857194759], Loss_val:0.06306336907996415, accuracy_val:0.514\n",
      "Epoch 2, Loss_train:[0.054294899352168864], Loss_val:0.04654368173830834, accuracy_val:0.6952\n",
      "Epoch 3, Loss_train:[0.03994792227563976], Loss_val:0.03485277257725104, accuracy_val:0.7779\n",
      "Epoch 4, Loss_train:[0.031018485017814682], Loss_val:0.028652064342903592, accuracy_val:0.8195\n",
      "Epoch 5, Loss_train:[0.026091785329408104], Loss_val:0.024918286037393173, accuracy_val:0.8409\n",
      "Epoch 6, Loss_train:[0.023038560252491118], Loss_val:0.02240355304375877, accuracy_val:0.8556\n",
      "Epoch 7, Loss_train:[0.02092526880570459], Loss_val:0.02062468337373542, accuracy_val:0.8663\n",
      "Epoch 8, Loss_train:[0.019347493470619995], Loss_val:0.019268236874796625, accuracy_val:0.8747\n",
      "Epoch 9, Loss_train:[0.018105003669880108], Loss_val:0.018187458525571236, accuracy_val:0.8824\n",
      "Epoch 10, Loss_train:[0.017083376558522514], Loss_val:0.017294303960894104, accuracy_val:0.8898\n",
      "Epoch 11, Loss_train:[0.016219167653894015], Loss_val:0.01653970302840041, accuracy_val:0.8951\n",
      "Epoch 12, Loss_train:[0.015474529937123116], Loss_val:0.01589659583284873, accuracy_val:0.8985\n",
      "Epoch 13, Loss_train:[0.014824464008157102], Loss_val:0.01535026305360026, accuracy_val:0.9014\n",
      "Epoch 14, Loss_train:[0.01425264017878508], Loss_val:0.014887189537376366, accuracy_val:0.9039\n",
      "Epoch 15, Loss_train:[0.013745018175453136], Loss_val:0.014489679499702925, accuracy_val:0.906\n",
      "Epoch 16, Loss_train:[0.013289212708646489], Loss_val:0.014141833093812447, accuracy_val:0.9078\n",
      "Epoch 17, Loss_train:[0.012875533326794975], Loss_val:0.013832902281711676, accuracy_val:0.9093\n",
      "Epoch 18, Loss_train:[0.012496622787509374], Loss_val:0.013555013711000026, accuracy_val:0.9112\n",
      "Epoch 19, Loss_train:[0.012146638214320047], Loss_val:0.013302537015372163, accuracy_val:0.9136\n",
      "Epoch 20, Loss_train:[0.011821749876175357], Loss_val:0.013072544618406247, accuracy_val:0.9158\n",
      "Epoch 21, Loss_train:[0.011519717835038114], Loss_val:0.01286194124947711, accuracy_val:0.9175\n",
      "Epoch 22, Loss_train:[0.011238737279693626], Loss_val:0.01266715082453633, accuracy_val:0.9187\n",
      "Epoch 23, Loss_train:[0.010976907780063406], Loss_val:0.012485891258553518, accuracy_val:0.9192\n",
      "Epoch 24, Loss_train:[0.010731700567839009], Loss_val:0.012316766283558475, accuracy_val:0.9202\n",
      "Epoch 25, Loss_train:[0.010500272528763737], Loss_val:0.012158801448259642, accuracy_val:0.9212\n",
      "Epoch 26, Loss_train:[0.010280595181894805], Loss_val:0.012011160204470466, accuracy_val:0.9221\n",
      "Epoch 27, Loss_train:[0.01007144545201577], Loss_val:0.011873052658986511, accuracy_val:0.9225\n",
      "Epoch 28, Loss_train:[0.00987203919268237], Loss_val:0.011743989579469115, accuracy_val:0.923\n",
      "Epoch 29, Loss_train:[0.009681887235639312], Loss_val:0.011623639020078994, accuracy_val:0.9238\n",
      "Epoch 30, Loss_train:[0.009500471259271129], Loss_val:0.011511362605596744, accuracy_val:0.9246\n"
     ]
    }
   ],
   "source": [
    "# start training\n",
    "mlp.train(train_x, train_y, x_val, y_val, 30, learning_rate=0.01)"
   ]
  },
  {
   "cell_type": "code",
   "execution_count": 11,
   "id": "685b82d4-33f8-4f80-9d77-1c261b523405",
   "metadata": {},
   "outputs": [],
   "source": [
    "loss_train, loss_val, acc = mlp.error()"
   ]
  },
  {
   "cell_type": "code",
   "execution_count": 12,
   "id": "65d228f7-0f7b-4504-8c0d-44440207fb23",
   "metadata": {},
   "outputs": [
    {
     "data": {
      "text/plain": [
       "<Figure size 640x480 with 0 Axes>"
      ]
     },
     "metadata": {},
     "output_type": "display_data"
    },
    {
     "data": {
      "image/png": "[encoded data removed]",
      "text/plain": [
       "<Figure size 1000x600 with 1 Axes>"
      ]
     },
     "metadata": {},
     "output_type": "display_data"
    }
   ],
   "source": [
    "plt.figure(2)\n",
    "plt.figure(figsize=(10,6))\n",
    "plt.plot(loss_train, color = 'red', label = 'loss_train')\n",
    "plt.plot(loss_val, color = 'blue', label = 'loss_val')\n",
    "plt.title('loss per epoch')\n",
    "plt.xlabel('epoch')\n",
    "plt.ylabel('loss')\n",
    "plt.legend()\n",
    "plt.grid()\n",
    "plt.show()"
   ]
  },
  {
   "cell_type": "code",
   "execution_count": 13,
   "id": "e5ba54da-2c15-4a36-9da0-3fff7fa2d4b9",
   "metadata": {},
   "outputs": [
    {
     "data": {
      "text/plain": [
       "<Figure size 640x480 with 0 Axes>"
      ]
     },
     "metadata": {},
     "output_type": "display_data"
    },
    {
     "data": {
      "image/png": "[encoded data removed]",
      "text/plain": [
       "<Figure size 1000x600 with 1 Axes>"
      ]
     },
     "metadata": {},
     "output_type": "display_data"
    }
   ],
   "source": [
    "plt.figure(3)\n",
    "plt.figure(figsize=(10,6)) \n",
    "plt.plot(acc, color = 'blue', label = 'accuracy metric with validation data') \n",
    "plt.title('Accuracy validation data per epoch')\n",
    "plt.xlabel('epoch')\n",
    "plt.ylabel('value')\n",
    "plt.legend() \n",
    "plt.grid()\n",
    "plt.show()"
   ]
  },
  {
   "cell_type": "code",
   "execution_count": 14,
   "id": "5ec3c499-50fa-462a-9629-75386c9cdc09",
   "metadata": {},
   "outputs": [],
   "source": [
    "# test with validation data\n",
    "prediction = mlp.feedforward(x_val)\n",
    "\n",
    "# flat to matrix image\n",
    "image_number = x_val.reshape(-1,28,28)"
   ]
  },
  {
   "cell_type": "code",
   "execution_count": 15,
   "id": "7f14bf53-ffb6-4721-84fb-2de3b4ef8941",
   "metadata": {},
   "outputs": [
    {
     "name": "stdout",
     "output_type": "stream",
     "text": [
      "\n",
      "data validation label -->  7\n",
      "\n",
      "prediction -->  7\n",
      "\n",
      "image input\n"
     ]
    },
    {
     "data": {
      "image/png": "[encoded data removed]",
      "text/plain": [
       "<Figure size 640x480 with 1 Axes>"
      ]
     },
     "metadata": {},
     "output_type": "display_data"
    }
   ],
   "source": [
    "n = 1100  # n 0 - 10000\n",
    "\n",
    "print()\n",
    "print('data validation label --> ', np.argmax(y_val[n]))\n",
    "print()\n",
    "print('prediction --> ', np.argmax(prediction[n]))\n",
    "print()\n",
    "print('image input')\n",
    "plt.imshow(image_number[n])\n",
    "plt.show()"
   ]
  }
 ],
 "metadata": {
  "kernelspec": {
   "display_name": "Python 3 (ipykernel)",
   "language": "python",
   "name": "python3"
  },
  "language_info": {
   "codemirror_mode": {
    "name": "ipython",
    "version": 3
   },
   "file_extension": ".py",
   "mimetype": "text/x-python",
   "name": "python",
   "nbconvert_exporter": "python",
   "pygments_lexer": "ipython3",
   "version": "3.12.3"
  }
 },
 "nbformat": 4,
 "nbformat_minor": 5
}
